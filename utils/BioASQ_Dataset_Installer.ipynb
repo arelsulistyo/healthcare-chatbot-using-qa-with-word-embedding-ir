{
 "cells": [
  {
   "cell_type": "code",
   "execution_count": 4,
   "metadata": {},
   "outputs": [],
   "source": [
    "from datasets import load_dataset\n",
    "import pandas as pd\n",
    "\n",
    "ds = load_dataset(\"kroshan/BioASQ\")\n",
    "\n",
    "train_df = pd.DataFrame(ds['train'])\n",
    "val_df = pd.DataFrame(ds['validation'])\n",
    "\n",
    "combined_df = pd.concat([train_df, val_df], ignore_index=True)\n",
    "\n",
    "combined_df.to_csv('bioasq_combined.csv', index=False)"
   ]
  }
 ],
 "metadata": {
  "kernelspec": {
   "display_name": ".venv",
   "language": "python",
   "name": "python3"
  },
  "language_info": {
   "codemirror_mode": {
    "name": "ipython",
    "version": 3
   },
   "file_extension": ".py",
   "mimetype": "text/x-python",
   "name": "python",
   "nbconvert_exporter": "python",
   "pygments_lexer": "ipython3",
   "version": "3.11.3"
  }
 },
 "nbformat": 4,
 "nbformat_minor": 2
}
