{
 "cells": [
  {
   "cell_type": "code",
   "execution_count": 1,
   "metadata": {},
   "outputs": [
    {
     "name": "stdout",
     "output_type": "stream",
     "text": [
      "Original dataset shape: (16407, 4)\n",
      "Filtered dataset shape: (16016, 4)\n"
     ]
    }
   ],
   "source": [
    "import pandas as pd\n",
    "\n",
    "# Read the CSV file\n",
    "df = pd.read_csv('MedQuad-MedicalQnADataset.csv')\n",
    "\n",
    "# Filter rows where Answer length is less than 5000 characters\n",
    "df_filtered = df[df['Answer'].str.len() < 5000]\n",
    "\n",
    "# Reset the index\n",
    "df_filtered = df_filtered.reset_index(drop=True)\n",
    "\n",
    "# Save the filtered dataset\n",
    "df_filtered.to_csv('MedQuad-MedicalQnADataset-filtered.csv', index=False)\n",
    "\n",
    "# Print the original and filtered shapes to see how many rows were removed\n",
    "print(f\"Original dataset shape: {df.shape}\")\n",
    "print(f\"Filtered dataset shape: {df_filtered.shape}\")"
   ]
  }
 ],
 "metadata": {
  "kernelspec": {
   "display_name": ".venv",
   "language": "python",
   "name": "python3"
  },
  "language_info": {
   "codemirror_mode": {
    "name": "ipython",
    "version": 3
   },
   "file_extension": ".py",
   "mimetype": "text/x-python",
   "name": "python",
   "nbconvert_exporter": "python",
   "pygments_lexer": "ipython3",
   "version": "3.11.3"
  }
 },
 "nbformat": 4,
 "nbformat_minor": 2
}
