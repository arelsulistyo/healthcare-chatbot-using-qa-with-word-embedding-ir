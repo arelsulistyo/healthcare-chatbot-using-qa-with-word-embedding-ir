{
 "cells": [
  {
   "cell_type": "code",
   "execution_count": 1,
   "metadata": {},
   "outputs": [
    {
     "data": {
      "text/html": [
       "<div>\n",
       "<style scoped>\n",
       "    .dataframe tbody tr th:only-of-type {\n",
       "        vertical-align: middle;\n",
       "    }\n",
       "\n",
       "    .dataframe tbody tr th {\n",
       "        vertical-align: top;\n",
       "    }\n",
       "\n",
       "    .dataframe thead th {\n",
       "        text-align: right;\n",
       "    }\n",
       "</style>\n",
       "<table border=\"1\" class=\"dataframe\">\n",
       "  <thead>\n",
       "    <tr style=\"text-align: right;\">\n",
       "      <th></th>\n",
       "      <th>qa_id</th>\n",
       "      <th>Question</th>\n",
       "      <th>Answer</th>\n",
       "      <th>qtype</th>\n",
       "      <th>question_vector</th>\n",
       "    </tr>\n",
       "  </thead>\n",
       "  <tbody>\n",
       "    <tr>\n",
       "      <th>0</th>\n",
       "      <td>2367</td>\n",
       "      <td>What is (are) Treatment Methods for Kidney Fai...</td>\n",
       "      <td>Peritoneal dialysis is a treatment for kidney ...</td>\n",
       "      <td>information</td>\n",
       "      <td>[-2.92561412e-01 -1.69873670e-01  7.75479199e-...</td>\n",
       "    </tr>\n",
       "    <tr>\n",
       "      <th>1</th>\n",
       "      <td>12204</td>\n",
       "      <td>Is Renal oncocytoma inherited ?</td>\n",
       "      <td>Is a renal oncocytoma inherited?  Most renal o...</td>\n",
       "      <td>inheritance</td>\n",
       "      <td>[ 2.62238264e-01  1.01351403e-01 -1.08982950e-...</td>\n",
       "    </tr>\n",
       "    <tr>\n",
       "      <th>2</th>\n",
       "      <td>8055</td>\n",
       "      <td>How many people are affected by 3-M syndrome ?</td>\n",
       "      <td>3-M syndrome is a rare disorder. About 50 indi...</td>\n",
       "      <td>frequency</td>\n",
       "      <td>[ 5.12961507e-01  1.04671925e-01 -3.40153217e-...</td>\n",
       "    </tr>\n",
       "    <tr>\n",
       "      <th>3</th>\n",
       "      <td>9935</td>\n",
       "      <td>How many people are affected by Fanconi anemia ?</td>\n",
       "      <td>Fanconi anemia occurs in 1 in 160,000 individu...</td>\n",
       "      <td>frequency</td>\n",
       "      <td>[ 6.77052587e-02  6.63659349e-02 -1.48786739e-...</td>\n",
       "    </tr>\n",
       "    <tr>\n",
       "      <th>4</th>\n",
       "      <td>6406</td>\n",
       "      <td>What are the genetic changes related to Alport...</td>\n",
       "      <td>Mutations in the COL4A3, COL4A4, and COL4A5 ge...</td>\n",
       "      <td>genetic changes</td>\n",
       "      <td>[ 1.92854628e-01  2.08995156e-02 -1.23188728e-...</td>\n",
       "    </tr>\n",
       "  </tbody>\n",
       "</table>\n",
       "</div>"
      ],
      "text/plain": [
       "   qa_id                                           Question  \\\n",
       "0   2367  What is (are) Treatment Methods for Kidney Fai...   \n",
       "1  12204                    Is Renal oncocytoma inherited ?   \n",
       "2   8055     How many people are affected by 3-M syndrome ?   \n",
       "3   9935   How many people are affected by Fanconi anemia ?   \n",
       "4   6406  What are the genetic changes related to Alport...   \n",
       "\n",
       "                                              Answer            qtype  \\\n",
       "0  Peritoneal dialysis is a treatment for kidney ...      information   \n",
       "1  Is a renal oncocytoma inherited?  Most renal o...      inheritance   \n",
       "2  3-M syndrome is a rare disorder. About 50 indi...        frequency   \n",
       "3  Fanconi anemia occurs in 1 in 160,000 individu...        frequency   \n",
       "4  Mutations in the COL4A3, COL4A4, and COL4A5 ge...  genetic changes   \n",
       "\n",
       "                                     question_vector  \n",
       "0  [-2.92561412e-01 -1.69873670e-01  7.75479199e-...  \n",
       "1  [ 2.62238264e-01  1.01351403e-01 -1.08982950e-...  \n",
       "2  [ 5.12961507e-01  1.04671925e-01 -3.40153217e-...  \n",
       "3  [ 6.77052587e-02  6.63659349e-02 -1.48786739e-...  \n",
       "4  [ 1.92854628e-01  2.08995156e-02 -1.23188728e-...  "
      ]
     },
     "execution_count": 1,
     "metadata": {},
     "output_type": "execute_result"
    }
   ],
   "source": [
    "import pandas as pd\n",
    "\n",
    "train_medquad = pd.read_csv(\"train_medquad.csv\")\n",
    "train_medquad.head()"
   ]
  },
  {
   "cell_type": "code",
   "execution_count": 9,
   "metadata": {},
   "outputs": [
    {
     "data": {
      "text/plain": [
       "12480"
      ]
     },
     "execution_count": 9,
     "metadata": {},
     "output_type": "execute_result"
    }
   ],
   "source": [
    "len(train_medquad[:1]['question_vector'].iloc[0])"
   ]
  },
  {
   "cell_type": "code",
   "execution_count": null,
   "metadata": {},
   "outputs": [],
   "source": []
  }
 ],
 "metadata": {
  "kernelspec": {
   "display_name": ".venv",
   "language": "python",
   "name": "python3"
  },
  "language_info": {
   "codemirror_mode": {
    "name": "ipython",
    "version": 3
   },
   "file_extension": ".py",
   "mimetype": "text/x-python",
   "name": "python",
   "nbconvert_exporter": "python",
   "pygments_lexer": "ipython3",
   "version": "3.12.7"
  }
 },
 "nbformat": 4,
 "nbformat_minor": 2
}
